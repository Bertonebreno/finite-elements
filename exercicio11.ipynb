{
 "cells": [
  {
   "cell_type": "code",
   "execution_count": 3,
   "metadata": {},
   "outputs": [
    {
     "name": "stdout",
     "output_type": "stream",
     "text": [
      "\\begin{bmatrix}\n",
      "2.3*alpha + 0.13*gamma & -2.7*alpha + 0.067*gamma & 0.33*alpha - 0.033*gamma \\\\\n",
      "-2.7*alpha + 0.067*gamma & 5.3*alpha + 0.53*gamma & -2.7*alpha + 0.067*gamma \\\\\n",
      "0.33*alpha - 0.033*gamma & -2.7*alpha + 0.067*gamma & 2.3*alpha + 0.13*gamma\n",
      "\\end{bmatrix}\n"
     ]
    }
   ],
   "source": [
    "import sympy as sp\n",
    "\n",
    "# Definindo a variável simbólica\n",
    "x = sp.Symbol('x')\n",
    "\n",
    "# Funções de forma quadráticas padrão\n",
    "phi_1 = 2 * (x - 0.5) * (x - 1)\n",
    "phi_2 = -4 * x * (x - 1)\n",
    "phi_3 = 2 * x * (x - 0.5)\n",
    "\n",
    "# Derivadas das funções de forma\n",
    "phi_1_prime = sp.diff(phi_1, x)\n",
    "phi_2_prime = sp.diff(phi_2, x)\n",
    "phi_3_prime = sp.diff(phi_3, x)\n",
    "\n",
    "# Definindo os parâmetros alpha e gamma\n",
    "alpha = sp.Symbol('alpha')\n",
    "gamma = sp.Symbol('gamma')\n",
    "\n",
    "# Função para calcular os elementos da matriz de rigidez\n",
    "def stiffness_matrix_element(phi_i_prime, phi_j_prime, phi_i, phi_j, alpha, gamma):\n",
    "    integrand = alpha * phi_i_prime * phi_j_prime + gamma * phi_i * phi_j\n",
    "    return sp.integrate(integrand, (x, 0, 1))\n",
    "\n",
    "# Construindo a matriz de rigidez\n",
    "K = sp.zeros(3, 3)\n",
    "phi_primes = [phi_1_prime, phi_2_prime, phi_3_prime]\n",
    "phis = [phi_1, phi_2, phi_3]\n",
    "\n",
    "for i in range(3):\n",
    "    for j in range(3):\n",
    "        K[i, j] = stiffness_matrix_element(phi_primes[i], phi_primes[j], phis[i], phis[j], alpha, gamma)\n",
    "\n",
    "K = sp.simplify(K)\n",
    "\n",
    "def formatar_numero(elemento, significativos):\n",
    "    \"\"\"Formata um número ou expressão SymPy com um número específico de algarismos significativos.\"\"\"\n",
    "    if isinstance(elemento, (sp.Float, float)):\n",
    "        return f\"{float(elemento):.{significativos}g}\"\n",
    "    return str(sp.N(elemento, significativos))\n",
    "\n",
    "def matriz_para_latex(matriz, significativos=2):\n",
    "    linhas = []\n",
    "    for linha in matriz.tolist():\n",
    "        linha_formatada = \" & \".join([formatar_numero(elemento, significativos) for elemento in linha])\n",
    "        linhas.append(linha_formatada)\n",
    "    matriz_latex = \"\\\\begin{bmatrix}\\n\" + \" \\\\\\\\\\n\".join(linhas) + \"\\n\\\\end{bmatrix}\"\n",
    "    return matriz_latex\n",
    "\n",
    "print(matriz_para_latex(K))"
   ]
  },
  {
   "cell_type": "code",
   "execution_count": 6,
   "metadata": {},
   "outputs": [
    {
     "name": "stdout",
     "output_type": "stream",
     "text": [
      "\\begin{bmatrix}\n",
      "0.17 \\\\\n",
      "0.67 \\\\\n",
      "0.17\n",
      "\\end{bmatrix}\n"
     ]
    }
   ],
   "source": [
    "# Função para calcular os elementos do vetor de carga\n",
    "def load_vector_element(phi_i):\n",
    "    integrand = phi_i\n",
    "    return sp.integrate(integrand, (x, 0, 1))\n",
    "\n",
    "# Construindo o vetor de carga\n",
    "F = sp.zeros(3, 1)\n",
    "for i in range(3):\n",
    "    F[i] = load_vector_element(phis[i])\n",
    "\n",
    "F = sp.simplify(F)\n",
    "\n",
    "print(matriz_para_latex(F))"
   ]
  }
 ],
 "metadata": {
  "kernelspec": {
   "display_name": "fenicsx-env",
   "language": "python",
   "name": "python3"
  },
  "language_info": {
   "codemirror_mode": {
    "name": "ipython",
    "version": 3
   },
   "file_extension": ".py",
   "mimetype": "text/x-python",
   "name": "python",
   "nbconvert_exporter": "python",
   "pygments_lexer": "ipython3",
   "version": "3.12.2"
  }
 },
 "nbformat": 4,
 "nbformat_minor": 2
}
